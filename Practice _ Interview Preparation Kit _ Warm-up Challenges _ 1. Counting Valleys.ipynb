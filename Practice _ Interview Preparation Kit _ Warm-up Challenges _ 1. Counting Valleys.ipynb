{
 "cells": [
  {
   "cell_type": "code",
   "execution_count": null,
   "metadata": {},
   "outputs": [],
   "source": [
    "#!/bin/python3\n",
    "\n",
    "import math\n",
    "import os\n",
    "import random\n",
    "import re\n",
    "import sys\n",
    "\n",
    "#\n",
    "# Complete the 'countingValleys' function below.\n",
    "#\n",
    "# The function is expected to return an INTEGER.\n",
    "# The function accepts following parameters:\n",
    "#  1. INTEGER steps\n",
    "#  2. STRING path\n",
    "#\n",
    "steps = int(input().strip())\n",
    "path = input()\n",
    "\n",
    "def countingValleys(steps, path):\n",
    "    level = 0\n",
    "    velly = 0 \n",
    "    height = []\n",
    "    # Write your code here\n",
    "    for path in path:\n",
    "       if path == 'U':\n",
    "        level += 1\n",
    "       else:\n",
    "        level -= 1\n",
    "        \n",
    "        if level == -1:\n",
    "            velly += 1\n",
    "    return velly\n"
   ]
  },
  {
   "cell_type": "code",
   "execution_count": null,
   "metadata": {},
   "outputs": [],
   "source": []
  }
 ],
 "metadata": {
  "kernelspec": {
   "display_name": "Python 3",
   "language": "python",
   "name": "python3"
  },
  "language_info": {
   "codemirror_mode": {
    "name": "ipython",
    "version": 3
   },
   "file_extension": ".py",
   "mimetype": "text/x-python",
   "name": "python",
   "nbconvert_exporter": "python",
   "pygments_lexer": "ipython3",
   "version": "3.8.5"
  }
 },
 "nbformat": 4,
 "nbformat_minor": 4
}
