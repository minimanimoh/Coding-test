{
 "cells": [
  {
   "cell_type": "code",
   "execution_count": null,
   "metadata": {},
   "outputs": [],
   "source": [
    "#!/bin/python3\n",
    "\n",
    "import math\n",
    "import os\n",
    "import random\n",
    "import re\n",
    "import sys\n",
    "\n",
    "\n",
    "# Complete the 'repeatedString' function below.\n",
    "\n",
    "# The function is expected to return a LONG_INTEGER.\n",
    "# The function accepts following parameters:\n",
    "#  1. STRING s\n",
    "#  2. LONG_INTEGER n\n",
    "\n",
    "\n",
    "def repeatedString(s, n):\n",
    "    # Write your code here\n",
    "    # Method 1\n",
    "    l = len(s)\n",
    "    sentence = s * (n//l) + s[: n % l] #Rembmer \"s[: n % l]\" *** \n",
    "    count = 0\n",
    "    for ele in sentence:\n",
    "        if ele == 'a':\n",
    "            count += 1\n",
    "    return count    \n",
    "    \n",
    "    \n",
    "    # Method 2\n",
    "def repeatedString(s, n):\n",
    "    l = len(s)\n",
    "    sentence = s * (n//l) + s[: n % l]\n",
    "    return csentence.count('a')\n",
    " \n",
    "    \n",
    "    # Method 3 ==> most efficient\n",
    "def repeatedString(s, n):\n",
    "    l = len(s)\n",
    "    return s.count('a') * (n//l) + s[:n % l].count('a') #remember the way s[: n%l].count('a')\n",
    "    \n",
    "    \n",
    "    s.count \n",
    "if __name__ == '__main__':\n",
    "    fptr = open(os.environ['OUTPUT_PATH'], 'w')\n",
    "\n",
    "    s = input()\n",
    "\n",
    "    n = int(input().strip())\n",
    "\n",
    "    result = repeatedString(s, n)\n",
    "\n",
    "    fptr.write(str(result) + '\\n')\n",
    "\n",
    "    fptr.close()\n"
   ]
  }
 ],
 "metadata": {
  "kernelspec": {
   "display_name": "Python 3",
   "language": "python",
   "name": "python3"
  },
  "language_info": {
   "codemirror_mode": {
    "name": "ipython",
    "version": 3
   },
   "file_extension": ".py",
   "mimetype": "text/x-python",
   "name": "python",
   "nbconvert_exporter": "python",
   "pygments_lexer": "ipython3",
   "version": "3.8.5"
  }
 },
 "nbformat": 4,
 "nbformat_minor": 4
}
