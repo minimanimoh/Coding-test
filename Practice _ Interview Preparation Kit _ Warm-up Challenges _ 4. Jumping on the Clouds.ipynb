{
 "cells": [
  {
   "cell_type": "code",
   "execution_count": null,
   "metadata": {},
   "outputs": [],
   "source": [
    "def jumpingOnClouds(c):\n",
    "    end_of_index = len(c) - 1\n",
    "    i = 0\n",
    "    count = 0\n",
    "    while(i < end_of_index):\n",
    "        if i + 2 <= end_of_index and c[i + 2] == 0:\n",
    "            i = i + 2\n",
    "            count = count + 1\n",
    "        elif c[i+1] == 0:\n",
    "            i = i + 1\n",
    "            count = count + 1\n",
    "    return count"
   ]
  }
 ],
 "metadata": {
  "kernelspec": {
   "display_name": "Python 3",
   "language": "python",
   "name": "python3"
  },
  "language_info": {
   "codemirror_mode": {
    "name": "ipython",
    "version": 3
   },
   "file_extension": ".py",
   "mimetype": "text/x-python",
   "name": "python",
   "nbconvert_exporter": "python",
   "pygments_lexer": "ipython3",
   "version": "3.8.5"
  }
 },
 "nbformat": 4,
 "nbformat_minor": 4
}
